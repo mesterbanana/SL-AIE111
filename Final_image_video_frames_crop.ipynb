{
 "cells": [
  {
   "cell_type": "code",
   "execution_count": null,
   "metadata": {},
   "outputs": [],
   "source": [
    "import os\n",
    "import cv2\n",
    "import mediapipe as mp"
   ]
  },
  {
   "cell_type": "code",
   "execution_count": null,
   "metadata": {},
   "outputs": [],
   "source": [
    "img_size = 224\n",
    "frame_rate = 5"
   ]
  },
  {
   "cell_type": "code",
   "execution_count": null,
   "metadata": {},
   "outputs": [],
   "source": [
    "dataset_dir = \"/home/mostafabakr/Desktop/Project X/img data\"  \n",
    "video_dataset_dir = \"/home/mostafabakr/Desktop/Project X/vid data\"  \n",
    "frame_output_dir = \"/home/mostafabakr/Desktop/Project X/Test_img/frames\"  "
   ]
  },
  {
   "cell_type": "code",
   "execution_count": null,
   "metadata": {},
   "outputs": [],
   "source": [
    "mp_hands = mp.solutions.hands\n",
    "hands = mp_hands.Hands(static_image_mode=True, max_num_hands=1, min_detection_confidence=0.5)"
   ]
  },
  {
   "cell_type": "code",
   "execution_count": null,
   "metadata": {},
   "outputs": [],
   "source": [
    "def detect_hand(image, padding=150):\n",
    "    \"\"\"Detects a hand in the image and returns a wider cropped version around the hand.\"\"\"\n",
    "    image_rgb = cv2.cvtColor(image, cv2.COLOR_BGR2RGB)\n",
    "    results = hands.process(image_rgb)\n",
    "\n",
    "    if results.multi_hand_landmarks:\n",
    "        height, width, _ = image.shape\n",
    "        hand_landmarks = results.multi_hand_landmarks[0]\n",
    "        x_coords = [int(point.x * width) for point in hand_landmarks.landmark]\n",
    "        y_coords = [int(point.y * height) for point in hand_landmarks.landmark]\n",
    "        x_min = max(0, min(x_coords) - padding)\n",
    "        x_max = min(width, max(x_coords) + padding)\n",
    "        y_min = max(0, min(y_coords) - padding)\n",
    "        y_max = min(height, max(y_coords) + padding)\n",
    "        return image[y_min:y_max, x_min:x_max]\n",
    "    return None"
   ]
  },
  {
   "cell_type": "code",
   "execution_count": null,
   "metadata": {},
   "outputs": [],
   "source": [
    "def preprocess_with_hand_detection(dataset_dir):\n",
    "    \"\"\"Preprocess the dataset to extract hands from images.\"\"\"\n",
    "    hand_dir = f\"{dataset_dir}_hand\"\n",
    "    os.makedirs(hand_dir, exist_ok=True)\n",
    "\n",
    "    #24 Iterations\n",
    "    for label_dir in os.listdir(dataset_dir):\n",
    "        label_path = os.path.join(dataset_dir, label_dir)\n",
    "        hand_label_dir = os.path.join(hand_dir, label_dir)\n",
    "        os.makedirs(hand_label_dir, exist_ok=True)\n",
    "        \n",
    "        #3000 - 4000 Iterations according to images\n",
    "        for image_file in os.listdir(label_path):\n",
    "            image_path = os.path.join(label_path, image_file)\n",
    "            image = cv2.imread(image_path)\n",
    "            hand = detect_hand(image)\n",
    "            if hand is not None:\n",
    "                hand_resized = cv2.resize(hand, (img_size, img_size))\n",
    "                cv2.imwrite(os.path.join(hand_label_dir, image_file), hand_resized)\n",
    "\n",
    "    print(\"Hand detection and preprocessing complete.\")"
   ]
  },
  {
   "cell_type": "code",
   "execution_count": null,
   "metadata": {},
   "outputs": [],
   "source": [
    "def preprocess_frames_with_hand_detection(video_dataset_dir, output_dir):\n",
    "    \"\"\"Preprocess video frames to extract hands and save them.\"\"\"\n",
    "    os.makedirs(output_dir, exist_ok=True)\n",
    "\n",
    "    for label_dir in os.listdir(video_dataset_dir):\n",
    "        label_path = os.path.join(video_dataset_dir, label_dir)\n",
    "        output_label_dir = os.path.join(output_dir, label_dir)\n",
    "        os.makedirs(output_label_dir, exist_ok=True)\n",
    "\n",
    "        for video_file in os.listdir(label_path):\n",
    "            video_path = os.path.join(label_path, video_file)\n",
    "            cap = cv2.VideoCapture(video_path)\n",
    "            frame_count = 0\n",
    "\n",
    "            while True:\n",
    "                ret, frame = cap.read()\n",
    "                if not ret:\n",
    "                    break\n",
    "\n",
    "                if frame_count % frame_rate == 0:\n",
    "                    hand = detect_hand(frame)\n",
    "                    if hand is not None:\n",
    "                        hand_resized = cv2.resize(hand, (img_size, img_size))\n",
    "                        frame_filename = os.path.join(\n",
    "                            output_label_dir, f\"{os.path.splitext(video_file)[0]}_frame_{frame_count}.jpg\"\n",
    "                        )\n",
    "                        cv2.imwrite(frame_filename, hand_resized)\n",
    "                frame_count += 1\n",
    "\n",
    "            cap.release()\n",
    "\n",
    "    print(\"Hand frame extraction complete.\")"
   ]
  },
  {
   "cell_type": "code",
   "execution_count": null,
   "metadata": {},
   "outputs": [],
   "source": [
    "\"\"\"Choose One or Both\"\"\"\n",
    "preprocess_with_hand_detection(dataset_dir)\n",
    "preprocess_frames_with_hand_detection(video_dataset_dir, frame_output_dir)"
   ]
  }
 ],
 "metadata": {
  "kernelspec": {
   "display_name": "myenv",
   "language": "python",
   "name": "python3"
  },
  "language_info": {
   "codemirror_mode": {
    "name": "ipython",
    "version": 3
   },
   "file_extension": ".py",
   "mimetype": "text/x-python",
   "name": "python",
   "nbconvert_exporter": "python",
   "pygments_lexer": "ipython3",
   "version": "3.10.12"
  }
 },
 "nbformat": 4,
 "nbformat_minor": 2
}
