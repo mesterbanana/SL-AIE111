{
 "cells": [
  {
   "cell_type": "code",
   "execution_count": null,
   "metadata": {},
   "outputs": [
    {
     "name": "stdout",
     "output_type": "stream",
     "text": [
      "Loading the model...\n",
      "Preparing dummy input...\n",
      "Exporting model to ONNX format...\n"
     ]
    },
    {
     "name": "stderr",
     "output_type": "stream",
     "text": [
      "/tmp/ipykernel_8786/2095031711.py:19: FutureWarning: You are using `torch.load` with `weights_only=False` (the current default value), which uses the default pickle module implicitly. It is possible to construct malicious pickle data which will execute arbitrary code during unpickling (See https://github.com/pytorch/pytorch/blob/main/SECURITY.md#untrusted-models for more details). In a future release, the default value for `weights_only` will be flipped to `True`. This limits the functions that could be executed during unpickling. Arbitrary objects will no longer be allowed to be loaded via this mode unless they are explicitly allowlisted by the user via `torch.serialization.add_safe_globals`. We recommend you start setting `weights_only=True` for any use case where you don't have full control of the loaded file. Please open an issue on GitHub for any issues related to this experimental feature.\n",
      "  model.load_state_dict(torch.load(model_path, map_location=torch.device('cpu')))\n"
     ]
    },
    {
     "name": "stdout",
     "output_type": "stream",
     "text": [
      "Model successfully exported to '/home/mostafabakr/Desktop/Project X/models/asl_image_model.onnx'\n"
     ]
    }
   ],
   "source": [
    "import os\n",
    "import torch\n",
    "from torchvision import models\n",
    "import torch.onnx\n",
    "\n",
    "# Paths for saving and exporting the model\n",
    "model_path = \"/home/mostafabakr/Desktop/Project X/Final_models/asl_image_model.pth\"\n",
    "onxx_model_path = \"/home/mostafabakr/Desktop/Project X/hardware/asl_image_model.onnx\"\n",
    "\n",
    "def convert_to_onnx(model_path, onnx_model_path, input_size=(1, 3, 224, 224)):\n",
    "    if not os.path.exists(model_path):\n",
    "        raise FileNotFoundError(f\"Model file '{model_path}' not found.\")\n",
    "\n",
    "    print(\"Loading the model...\")\n",
    "    # Load the trained model\n",
    "    model = models.mobilenet_v2()\n",
    "    num_classes = 24  # Replace with the actual number of classes in your dataset\n",
    "    model.classifier[1] = torch.nn.Linear(model.last_channel, num_classes)\n",
    "    model.load_state_dict(torch.load(model_path, map_location=torch.device('cpu')))\n",
    "    model.eval()\n",
    "\n",
    "    print(\"Preparing dummy input...\")\n",
    "    # Create a dummy input tensor for export\n",
    "    dummy_input = torch.randn(input_size)\n",
    "\n",
    "    print(\"Exporting model to ONNX format...\")\n",
    "    # Export the model to ONNX format\n",
    "    torch.onnx.export(\n",
    "        model,\n",
    "        dummy_input,\n",
    "        onnx_model_path,\n",
    "        export_params=True,              # Store trained parameter weights inside the model file\n",
    "        opset_version=11,                # ONNX version to export to\n",
    "        do_constant_folding=True,        # Optimize the model\n",
    "        input_names=['input'],           # Input layer name\n",
    "        output_names=['output'],         # Output layer name\n",
    "        dynamic_axes={                   # Variable-length axes\n",
    "            'input': {0: 'batch_size'},\n",
    "            'output': {0: 'batch_size'}\n",
    "        }\n",
    "    )\n",
    "\n",
    "    print(f\"Model successfully exported to '{onnx_model_path}'\")\n",
    "\n",
    "if __name__ == \"__main__\":\n",
    "    convert_to_onnx(model_path, onxx_model_path)\n"
   ]
  }
 ],
 "metadata": {
  "kernelspec": {
   "display_name": "myenv",
   "language": "python",
   "name": "python3"
  },
  "language_info": {
   "codemirror_mode": {
    "name": "ipython",
    "version": 3
   },
   "file_extension": ".py",
   "mimetype": "text/x-python",
   "name": "python",
   "nbconvert_exporter": "python",
   "pygments_lexer": "ipython3",
   "version": "3.10.12"
  }
 },
 "nbformat": 4,
 "nbformat_minor": 2
}
