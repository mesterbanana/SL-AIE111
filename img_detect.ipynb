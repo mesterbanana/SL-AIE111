{
 "cells": [
  {
   "cell_type": "code",
   "execution_count": null,
   "metadata": {},
   "outputs": [],
   "source": [
    "from keras.models import load_model  \n",
    "from PIL import Image, ImageOps  \n",
    "import numpy as np\n",
    "\n",
    "# Disable scientific notation for clarity\n",
    "np.set_printoptions(suppress=True)\n",
    "\n",
    "# Load the model\n",
    "model = load_model(\"/home/mostafabakr/Desktop/GU Materials/AIE 111/Lab/sign_language_model.h5\", compile=False)\n",
    "\n",
    "# Load the labels and strip any extra characters like newlines\n",
    "class_names = [line.strip() for line in open(\"/home/mostafabakr/Desktop/GU Materials/AIE 111/Lab/labels.txt\", \"r\").readlines()]\n",
    "\n",
    "# Create the array of the right shape to feed into the keras model\n",
    "data = np.ndarray(shape=(1, 126, 126, 3), dtype=np.float32)  # Adjust shape to (126, 126, 3)\n",
    "\n",
    "# Replace this with the path to your image\n",
    "image = Image.open(\"/home/mostafabakr/Desktop/GU Materials/AIE 111/Lab/data/P/4_jpg.rf.d7e1f4506f13ff393ec010600e8e8573.jpg\").convert(\"RGB\")\n",
    "\n",
    "# Resize the image to 126x126, the size expected by the model\n",
    "size = (126, 126)\n",
    "image = ImageOps.fit(image, size, Image.Resampling.LANCZOS)\n",
    "\n",
    "# Turn the image into a numpy array\n",
    "image_array = np.asarray(image)\n",
    "\n",
    "# Normalize the image\n",
    "normalized_image_array = (image_array.astype(np.float32) / 127.5) - 1\n",
    "\n",
    "# Load the image into the array\n",
    "data[0] = normalized_image_array\n",
    "\n",
    "# Predict the model\n",
    "prediction = model.predict(data)\n",
    "index = np.argmax(prediction)\n",
    "class_name = class_names[index]\n",
    "confidence_score = prediction[0][index]\n",
    "\n",
    "# Print prediction and confidence score\n",
    "print(f\"Class: {class_name}\")\n",
    "print(f\"Accuracy rate: {confidence_score * 100:.2f}%\")\n"
   ]
  }
 ],
 "metadata": {
  "kernelspec": {
   "display_name": "Python 3",
   "language": "python",
   "name": "python3"
  },
  "language_info": {
   "codemirror_mode": {
    "name": "ipython",
    "version": 3
   },
   "file_extension": ".py",
   "mimetype": "text/x-python",
   "name": "python",
   "nbconvert_exporter": "python",
   "pygments_lexer": "ipython3",
   "version": "3.12.7"
  }
 },
 "nbformat": 4,
 "nbformat_minor": 2
}
